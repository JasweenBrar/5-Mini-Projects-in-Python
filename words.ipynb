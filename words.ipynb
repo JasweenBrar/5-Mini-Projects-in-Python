word_list = [
    'banana',
    'apple',
    'mango',
    'cherry',
    'plum',
    'kiwi',
    'avocado'
    ]
